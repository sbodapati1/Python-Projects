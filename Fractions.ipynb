{
  "cells": [
    {
      "cell_type": "code",
      "execution_count": null,
      "metadata": {
        "deletable": false,
        "editable": false,
        "id": "UlSitjUrTQWO",
        "nbgrader": {
          "cell_type": "code",
          "checksum": "0c6b31278d5e2548993cf84abada1f69",
          "grade": false,
          "grade_id": "cell-3080717ecd13c59b",
          "locked": true,
          "schema_version": 3,
          "solution": false
        }
      },
      "outputs": [],
      "source": [
        "import math\n",
        "\n",
        "class Complex(object):\n",
        "\n",
        "    def __init__(self, r, i):\n",
        "        self.r = r # Real part\n",
        "        self.i = i # Imaginary part\n",
        "\n",
        "    def __add__(self, other):\n",
        "        return Complex(self.r + other.r, self.i + other.i)\n",
        "\n",
        "    def __sub__(self, other):\n",
        "        return Complex(self.r - other.r, self.i - other.i)\n",
        "\n",
        "    def __mul__(self, other):\n",
        "        return Complex((self.r * other.r - self.i * other.i),\n",
        "                       (self.r * other.i + self.i * other.r))\n",
        "\n",
        "    @property\n",
        "    def modulus_square(self):\n",
        "        return self.r * self.r + self.i * self.i\n",
        "\n",
        "    @property\n",
        "    def modulus(self):\n",
        "        return math.sqrt(self.modulus_square)\n",
        "\n",
        "    def inverse(self):\n",
        "        m = self.modulus_square # to cache it\n",
        "        return Complex(self.r / m, - self.i / m)\n",
        "\n",
        "    def __truediv__(self, other):\n",
        "        return self * other.inverse()\n",
        "\n",
        "    def __repr__(self):\n",
        "        \"\"\"This defines how to print a complex number.\"\"\"\n",
        "        if self.i < 0:\n",
        "            return \"{}-{}i\".format(self.r, -self.i)\n",
        "        return \"{}+{}i\".format(self.r, self.i)\n",
        "\n",
        "    def __eq__(self, other):\n",
        "        \"\"\"We even define equality\"\"\"\n",
        "        return self.r == other.r and self.i == other.i\n"
      ]
    },
    {
      "cell_type": "code",
      "execution_count": null,
      "metadata": {
        "deletable": false,
        "id": "2E6jwGsgTQWQ",
        "nbgrader": {
          "cell_type": "code",
          "checksum": "e610074c468d0eaf8c6d6971d082aa34",
          "grade": false,
          "grade_id": "cell-796a797c822736bc",
          "locked": false,
          "schema_version": 3,
          "solution": true
        }
      },
      "outputs": [],
      "source": [
        "# Definition of Fraction class\n",
        "\n",
        "# Here is the gcd function, as it may well be useful to you.\n",
        "def gcd(m, n):\n",
        "    # This is the \"without loss of generality\" part.\n",
        "    m, n = (m, n) if m > n else (n, m)\n",
        "    m, n = abs(m), abs(n)\n",
        "    return m if n == 0 else gcd(m % n, n)\n",
        "\n",
        "class Fraction(object):\n",
        "\n",
        "    def __init__(self, numerator, denominator):\n",
        "        assert isinstance(numerator, int)\n",
        "        assert isinstance(denominator, int)\n",
        "        assert denominator != 0\n",
        "        # YOUR CODE HERE\n",
        "        d = gcd(numerator, denominator)\n",
        "        gcd(numerator, denominator)\n",
        "        denominator1 = denominator / d\n",
        "        numerator1 = numerator / d\n",
        "        if denominator < 0:\n",
        "          numerator1 = numerator1 * (-1)\n",
        "          denominator1 = denominator1 * (-1)\n",
        "        self.numerator = int(numerator1)\n",
        "        self.denominator = int(denominator1)\n",
        "\n",
        "    def __repr__(self):\n",
        "        \"\"\"Pretty print a fraction.\"\"\"\n",
        "        return \"{}/{}\".format(self.numerator, self.denominator)\n",
        "\n",
        "    ## Here, implement the methods for +, -, *, /, =, and <.\n",
        "    ## Done quite at leisure, with spaces and all, this can be done in about\n",
        "    ## 25 lines of code.\n",
        "\n",
        "     # YOUR CODE HERE\n",
        "    def __add__(self, second):\n",
        "      if self.denominator == second.denominator:\n",
        "        add = second.numerator + self.numerator\n",
        "        return Fraction(add, self.denominator)\n",
        "      if self.denominator != second.denominator:\n",
        "        num_self = self.numerator * second.denominator\n",
        "        den = self.denominator * second.denominator\n",
        "        num_second = second.numerator * self.denominator\n",
        "        numer = num_self + num_second\n",
        "        denom = den\n",
        "        return Fraction(numer, denom)\n",
        "\n",
        "    def __sub__(self, second):\n",
        "      if self.denominator == second.denominator:\n",
        "        sub = self.numerator - second.numerator\n",
        "        return Fraction(sub, self.denominator)\n",
        "      if self.denominator != second.denominator:\n",
        "        num_self = self.numerator * second.denominator\n",
        "        den = self.denominator * second.denominator\n",
        "        num_second = second.numerator * self.denominator\n",
        "        numer = num_self - num_second\n",
        "        denom = den\n",
        "        return Fraction(numer, denom)\n",
        "\n",
        "    def __mul__(self, second):\n",
        "      num = self.numerator * second.numerator\n",
        "      den = self.denominator * second.denominator\n",
        "      g = gcd(num, den)\n",
        "      numer = int(num/g)\n",
        "      denom = int(den/g)\n",
        "      return Fraction(numer, denom)\n",
        "\n",
        "    def __truediv__(self, second):\n",
        "      num = self.numerator * second.denominator\n",
        "      den = self.denominator * second.numerator\n",
        "      g = gcd(num, den)\n",
        "      numer = int(num/g)\n",
        "      denom = int(den/g)\n",
        "      return Fraction(numer, denom)\n",
        "\n",
        "    def __eq__(self, second):\n",
        "      if (second.numerator== self.numerator and second.denominator == self.denominator):\n",
        "        return True\n",
        "      if (second.numerator != self.numerator or second.denominator != self.denominator):\n",
        "        return False\n",
        "  \n",
        "    def __lt__(self, second):\n",
        "      if (self.numerator, self.denominator < second.numerator, second.denominator):\n",
        "        return True\n",
        "      if (second.numerator, second.denominator < self.numerator, self.denominator):\n",
        "        return True\n"
      ]
    },
    {
      "cell_type": "code",
      "execution_count": null,
      "metadata": {
        "deletable": false,
        "editable": false,
        "id": "L7-3fC56TQWR",
        "nbgrader": {
          "cell_type": "code",
          "checksum": "3274788d65ce24747bc0a198b2c1ad48",
          "grade": false,
          "grade_id": "cell-e3553c6121ad5310",
          "locked": true,
          "schema_version": 3,
          "solution": false
        }
      },
      "outputs": [],
      "source": [
        "## First, let us check that you correctly put the fraction into normal form,\n",
        "## without common factor between numerator and denominator, and with a\n",
        "## positive denominator.\n",
        "\n",
        "f = Fraction(8, 6)\n",
        "assert f.numerator == 4 and f.denominator == 3\n",
        "\n",
        "f = Fraction(-8, 6)\n",
        "assert f.numerator == -4 and f.denominator == 3\n",
        "\n",
        "f = Fraction(8, -6)\n",
        "assert f.numerator == -4 and f.denominator == 3\n",
        "\n",
        "f = Fraction(-8, -6)\n",
        "assert f.numerator == 4 and f.denominator == 3\n",
        "\n",
        "f = Fraction(0, 10)\n",
        "assert f.numerator == 0 and f.denominator == 1\n"
      ]
    },
    {
      "cell_type": "code",
      "execution_count": null,
      "metadata": {
        "deletable": false,
        "editable": false,
        "id": "ndlD8mIhTQWR",
        "nbgrader": {
          "cell_type": "code",
          "checksum": "1edea8384850fd72c3fcb75ec2cec583",
          "grade": true,
          "grade_id": "cell-2cabfda268f93ed3",
          "locked": true,
          "points": 10,
          "schema_version": 3,
          "solution": false
        }
      },
      "outputs": [],
      "source": [
        "### BEGIN HIDDEN TESTS\n",
        "f = Fraction(15, 10)\n",
        "assert f.numerator == 3 and f.denominator == 2\n",
        "f = Fraction(3, -6)\n",
        "assert f.numerator == -1 and f.denominator == 2\n",
        "### END HIDDEN TESTS\n"
      ]
    },
    {
      "cell_type": "code",
      "execution_count": null,
      "metadata": {
        "deletable": false,
        "editable": false,
        "id": "F2T8WwIWTQWS",
        "nbgrader": {
          "cell_type": "code",
          "checksum": "b45b23ec8d571c688a5c468f3014556f",
          "grade": false,
          "grade_id": "cell-f32d24e0d4a37c89",
          "locked": true,
          "schema_version": 3,
          "solution": false
        }
      },
      "outputs": [],
      "source": [
        "f = Fraction(8, 6) + Fraction(25, 20)\n",
        "assert f.numerator == 31 and f.denominator == 12\n",
        "assert f == Fraction(31, 12)\n",
        "assert f == Fraction(62, 24)\n",
        "\n",
        "assert Fraction(6, 4) + Fraction(-8, 6) == Fraction(6, 4) - Fraction(8, 6)\n",
        "assert not (Fraction(6, 4) + Fraction(-8, 6) == Fraction(6, 5) - Fraction(8, 6))\n"
      ]
    },
    {
      "cell_type": "code",
      "execution_count": null,
      "metadata": {
        "deletable": false,
        "editable": false,
        "id": "LRPBORzKTQWS",
        "nbgrader": {
          "cell_type": "code",
          "checksum": "9b4b18d28e63da6ea0123ad6957b877d",
          "grade": true,
          "grade_id": "cell-a79483c948d8dea7",
          "locked": true,
          "points": 10,
          "schema_version": 3,
          "solution": false
        }
      },
      "outputs": [],
      "source": [
        "### BEGIN HIDDEN TESTS\n",
        "assert Fraction(3, 2) + Fraction(3, 2) == Fraction(3, 1)\n",
        "assert Fraction(30, 25) - Fraction(8, 7) + Fraction(8, 7) == Fraction(30, 25)\n",
        "assert not Fraction(4, 5) == Fraction(4, -5)\n",
        "assert not Fraction(4, 5) == Fraction(0, 5)\n",
        "### END HIDDEN TESTS\n"
      ]
    },
    {
      "cell_type": "code",
      "execution_count": null,
      "metadata": {
        "deletable": false,
        "editable": false,
        "id": "sTn_1pt3TQWS",
        "nbgrader": {
          "cell_type": "code",
          "checksum": "f2e437dd791274090c02e817d82e325d",
          "grade": false,
          "grade_id": "cell-2fe7cb917bd1370e",
          "locked": true,
          "schema_version": 3,
          "solution": false
        }
      },
      "outputs": [],
      "source": [
        "assert Fraction(3, 2) * Fraction(2, 3) == Fraction(1, 1)\n",
        "assert Fraction(3, 2) / Fraction(2, 3) == Fraction(9, 4)\n",
        "assert Fraction(3, 2) / Fraction(6, 4) == Fraction(1, 1)\n",
        "assert Fraction(32, 16) == Fraction(2, 1)\n",
        "assert not Fraction(33, 16) == Fraction(4, 2)\n"
      ]
    },
    {
      "cell_type": "code",
      "execution_count": null,
      "metadata": {
        "deletable": false,
        "editable": false,
        "id": "No5ZJ-iXTQWS",
        "nbgrader": {
          "cell_type": "code",
          "checksum": "d1098c58992ce0483e34f9ad9e8290bd",
          "grade": true,
          "grade_id": "cell-1a6123cf3a7681e7",
          "locked": true,
          "points": 10,
          "schema_version": 3,
          "solution": false
        }
      },
      "outputs": [],
      "source": [
        "### BEGIN HIDDEN TESTS\n",
        "assert Fraction(12, 6) * Fraction(2, 3) == Fraction(4, 3)\n",
        "assert Fraction(-20, 2) / Fraction(15, 3) == Fraction(-2, 1)\n",
        "assert Fraction(3, 2) / Fraction(-4, 3) == Fraction(-9, 8)\n",
        "assert not Fraction(2, -1) == Fraction(2, 1)\n",
        "### END HIDDEN TESTS\n"
      ]
    },
    {
      "cell_type": "code",
      "execution_count": null,
      "metadata": {
        "deletable": false,
        "editable": false,
        "id": "rnxJEGXfTQWT",
        "nbgrader": {
          "cell_type": "code",
          "checksum": "68077b0efc5d8935d5d569a14873d822",
          "grade": false,
          "grade_id": "cell-e50726563e5a6e39",
          "locked": true,
          "schema_version": 3,
          "solution": false
        }
      },
      "outputs": [],
      "source": [
        "assert Fraction(5, 7) < Fraction(5, 6)\n",
        "assert Fraction(-3, 2) < Fraction(0, 3)\n"
      ]
    },
    {
      "cell_type": "code",
      "execution_count": null,
      "metadata": {
        "deletable": false,
        "editable": false,
        "id": "xjrIr54TTQWT",
        "nbgrader": {
          "cell_type": "code",
          "checksum": "79055849cef5907af95980e6ea404f5c",
          "grade": true,
          "grade_id": "cell-37b6f3021bc2e4f",
          "locked": true,
          "points": 10,
          "schema_version": 3,
          "solution": false
        }
      },
      "outputs": [],
      "source": [
        "### BEGIN HIDDEN TESTS\n",
        "assert Fraction(6, 8) < Fraction(7, 8)\n",
        "assert Fraction(-7, 8) < Fraction(6, 8)\n",
        "### END HIDDEN TESTS\n"
      ]
    },
    {
      "cell_type": "code",
      "execution_count": null,
      "metadata": {
        "deletable": false,
        "editable": false,
        "id": "CjykXHabTQWT",
        "nbgrader": {
          "cell_type": "code",
          "checksum": "1e8cd8117e3f0ca015c6d234720c0005",
          "grade": false,
          "grade_id": "cell-757537315015fd52",
          "locked": true,
          "schema_version": 3,
          "solution": false
        }
      },
      "outputs": [],
      "source": [
        "a = Fraction(7, 8)\n",
        "b = Fraction(-4, 5)\n",
        "a + b\n",
        "a / b\n",
        "a < b\n",
        "a * b\n",
        "assert a == Fraction(7, 8)\n",
        "assert b == Fraction(-4, 5)\n"
      ]
    },
    {
      "cell_type": "code",
      "execution_count": null,
      "metadata": {
        "deletable": false,
        "editable": false,
        "id": "bhjSZRpFTQWT",
        "nbgrader": {
          "cell_type": "code",
          "checksum": "0a1dcf7ae3fac74d4bdcd1a3d44e8446",
          "grade": false,
          "grade_id": "cell-ccb110e165af6595",
          "locked": true,
          "schema_version": 3,
          "solution": false
        }
      },
      "outputs": [],
      "source": [
        "import random\n",
        "for _ in range(1000):\n",
        "    a = Fraction(random.randint(-200, 200), random.randint(1, 100))\n",
        "    b = Fraction(random.randint(-200, 200), random.randint(1, 100))\n",
        "    c = Fraction(random.randint(-200, 200), random.randint(1, 100))\n",
        "    assert Fraction(-1, 1000) < (a - b) * (a - b)\n",
        "    assert (a - b) * (a + b) == a * a - b * b\n",
        "    z = Fraction(0, 1) # Zero, as a fraction.\n",
        "    if not ((a == z) or (b == z) or (c == z)):\n",
        "        assert (a / b) * b == (a / c) * c\n",
        "        assert (a / b) * (a / c) == (a * a) / (b * c)\n",
        "        assert (a / b) / (b / c) == (a * c) / (b * b)\n",
        "        assert (a * a * b * c) / (a * c) == a * b\n"
      ]
    },
    {
      "cell_type": "code",
      "execution_count": null,
      "metadata": {
        "deletable": false,
        "id": "Fxn_WCITTQWU",
        "nbgrader": {
          "cell_type": "code",
          "checksum": "a64dcf911c360c439b939f107ebf283b",
          "grade": false,
          "grade_id": "cell-21aa45adc9bbc8fe",
          "locked": false,
          "schema_version": 3,
          "solution": true
        }
      },
      "outputs": [],
      "source": [
        "class Int(Fraction):\n",
        "\n",
        "    # YOUR CODE HERE\n",
        "    def __init__(self, integer):\n",
        "      super().__init__(integer, 1)\n"
      ]
    },
    {
      "cell_type": "code",
      "execution_count": null,
      "metadata": {
        "deletable": false,
        "editable": false,
        "id": "k5WjRs2LTQWV",
        "nbgrader": {
          "cell_type": "code",
          "checksum": "c7ebb5de41e8b68371ad1c8c7b46f59c",
          "grade": false,
          "grade_id": "cell-95fdd909733f4e5d",
          "locked": true,
          "schema_version": 3,
          "solution": false
        }
      },
      "outputs": [],
      "source": [
        "assert Int(3) / Int(2) == Fraction(3, 2)\n",
        "assert Int(3) * Int(4) / (Int(5) + Int(2)) == Fraction(12, 7)\n",
        "assert Int(3) * Int(4) / (Int(5) + Int(1)) == Fraction(2, 1)\n"
      ]
    }
  ],
  "metadata": {
    "colab": {
      "provenance": []
    },
    "kernelspec": {
      "display_name": "Python 3 (ipykernel)",
      "language": "python",
      "name": "python3"
    },
    "language_info": {
      "codemirror_mode": {
        "name": "ipython",
        "version": 3
      },
      "file_extension": ".py",
      "mimetype": "text/x-python",
      "name": "python",
      "nbconvert_exporter": "python",
      "pygments_lexer": "ipython3",
      "version": "3.8.10"
    },
    "test_info": {
      "id": "262022a9c5bdd8469ea587b4451190c990a02180"
    }
  },
  "nbformat": 4,
  "nbformat_minor": 0
}