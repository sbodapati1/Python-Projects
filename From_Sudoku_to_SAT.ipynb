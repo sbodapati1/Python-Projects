{
  "cells": [
    {
      "cell_type": "code",
      "execution_count": null,
      "metadata": {
        "deletable": false,
        "editable": false,
        "id": "G1wD6ElgNN7N",
        "nbgrader": {
          "checksum": null,
          "grade": false,
          "grade_id": "cell-aff8b789d9842c4d",
          "locked": true,
          "schema_version": 3,
          "solution": false
        }
      },
      "outputs": [],
      "source": [
        "try:\n",
        "    import pysat\n",
        "except:\n",
        "    !pip install python-sat\n",
        "    import pysat\n"
      ]
    },
    {
      "cell_type": "code",
      "execution_count": null,
      "metadata": {
        "deletable": false,
        "editable": false,
        "id": "o7uXSsrBNN7P",
        "nbgrader": {
          "checksum": null,
          "grade": false,
          "grade_id": "cell-5969e2b9880c9cde",
          "locked": true,
          "schema_version": 3,
          "solution": false
        }
      },
      "outputs": [],
      "source": [
        "from pysat.solvers import Glucose3\n",
        "g = Glucose3()\n",
        "g.add_clause([-1, 2])\n",
        "g.add_clause([-2, 3])\n",
        "print(g.solve())\n",
        "print(g.get_model())\n",
        "g.delete()\n"
      ]
    },
    {
      "cell_type": "code",
      "execution_count": null,
      "metadata": {
        "deletable": false,
        "editable": false,
        "id": "zRW14g2zNN7Q",
        "nbgrader": {
          "checksum": null,
          "grade": false,
          "grade_id": "cell-4aaece271e6a53c2",
          "locked": true,
          "schema_version": 3,
          "solution": false
        }
      },
      "outputs": [],
      "source": [
        "with Glucose3() as g:\n",
        "    g.add_clause([-1, 2])\n",
        "    g.add_clause([-2, 3])\n",
        "    print(g.solve())\n",
        "    print(g.get_model())\n"
      ]
    },
    {
      "cell_type": "code",
      "execution_count": null,
      "metadata": {
        "deletable": false,
        "editable": false,
        "id": "zM5ucJKLNN7R",
        "nbgrader": {
          "checksum": null,
          "grade": false,
          "grade_id": "cell-2a74bff834cc9d4d",
          "locked": true,
          "schema_version": 3,
          "solution": false
        }
      },
      "outputs": [],
      "source": [
        "from pysat.solvers import Glucose4, Minisat22\n",
        "with Minisat22() as g:\n",
        "    g.add_clause([-1, 2])\n",
        "    g.add_clause([-2, 3])\n",
        "    print(g.solve())\n",
        "    print(g.get_model())\n"
      ]
    },
    {
      "cell_type": "code",
      "execution_count": null,
      "metadata": {
        "deletable": false,
        "id": "XNiXQPSSNN7S",
        "nbgrader": {
          "checksum": null,
          "grade": false,
          "grade_id": "cell-544f7f15c1b64ec2",
          "locked": false,
          "schema_version": 3,
          "solution": true
        }
      },
      "outputs": [],
      "source": [
        "import numpy as np\n",
        "\n",
        "class SudokuViaSAT(object):\n",
        "\n",
        "    def __init__(self, sudoku_string):\n",
        "        \"\"\"\n",
        "        @param sudoku_string: an 81-long digit string: 0 represents an unknown\n",
        "            digit, and 1..9 represent the respective digit.\n",
        "        \"\"\"\n",
        "        assert len(sudoku_string) > 80\n",
        "        self.board = np.zeros((9, 9), dtype=np.uint8)\n",
        "        for i in range(9):\n",
        "            for j in range(9):\n",
        "                self.board[i, j] = int(sudoku_string[i * 9 + j])\n",
        "        self.sat = None # This will be the SAT instance.\n",
        "        # Perform here any other initialization you think you need.\n",
        "        # YOUR CODE HERE\n",
        "\n",
        "    def show(self):\n",
        "        \"\"\"Prints out the board.\"\"\"\n",
        "        print(\"+---+---+---+\")\n",
        "        for i in range(9):\n",
        "            r = '|'\n",
        "            for j in range(9):\n",
        "                r += \".\" if self.board[i, j] == 0 else str(self.board[i, j])\n",
        "                if (j + 1) % 3 == 0:\n",
        "                    r += \"|\"\n",
        "            print(r)\n",
        "            if (i + 1) % 3 == 0:\n",
        "                print(\"+---+---+---+\")\n"
      ]
    },
    {
      "cell_type": "code",
      "execution_count": null,
      "metadata": {
        "deletable": false,
        "editable": false,
        "id": "uNPUJl9ONN7T",
        "nbgrader": {
          "checksum": null,
          "grade": false,
          "grade_id": "cell-a9381a141dd36a44",
          "locked": true,
          "schema_version": 3,
          "solution": false
        }
      },
      "outputs": [],
      "source": [
        "problem = \"000000061350000000400050000020000800000601000000700000000080200600400000007000010\"\n",
        "sd = SudokuViaSAT(problem)\n",
        "sd.show()\n"
      ]
    },
    {
      "cell_type": "code",
      "execution_count": null,
      "metadata": {
        "deletable": false,
        "editable": false,
        "id": "cyc_s80bNN7U",
        "nbgrader": {
          "checksum": null,
          "grade": false,
          "grade_id": "cell-c927ed1f885fd6a6",
          "locked": true,
          "schema_version": 3,
          "solution": false
        }
      },
      "outputs": [],
      "source": [
        "def encode_variable(d, i, j):\n",
        "    \"\"\"This function creates the variable (the integer) representing the\n",
        "    fact that digit d appears in position i, j.\n",
        "    Of course, to obtain the complement variable, you can just negate\n",
        "    (take the negative) of the returned integer.\n",
        "    Note that it must be: 1 <= d <= 9, 0 <= i <= 8, 0 <= j <= 8.\"\"\"\n",
        "    assert 1 <= d <= 9\n",
        "    assert 0 <= i < 9\n",
        "    assert 0 <= j < 9\n",
        "    # The int() below seems useless, but it is not.  If d is a numpy.uint8,\n",
        "    # as an element of the board is, this int() ensures that the generated\n",
        "    # literal is a normal Python integer, as the SAT solvers expect.\n",
        "    return int(d * 100 + i * 10 + j)\n"
      ]
    },
    {
      "cell_type": "code",
      "execution_count": null,
      "metadata": {
        "deletable": false,
        "editable": false,
        "id": "t4TokvcaNN7U",
        "nbgrader": {
          "checksum": null,
          "grade": false,
          "grade_id": "cell-64dcab3ae185dcff",
          "locked": true,
          "schema_version": 3,
          "solution": false
        }
      },
      "outputs": [],
      "source": [
        "# Let's define a testing helper.\n",
        "\n",
        "def check_equal(x, y, msg=None):\n",
        "    if x != y:\n",
        "        if msg is None:\n",
        "            print(\"Error:\")\n",
        "        else:\n",
        "            print(\"Error in\", msg, \":\")\n",
        "        print(\"    Your answer was:\", x)\n",
        "        print(\"    Correct answer: \", y)\n",
        "    assert x == y, \"%r and %r are different\" % (x, y)\n"
      ]
    },
    {
      "cell_type": "code",
      "execution_count": null,
      "metadata": {
        "deletable": false,
        "editable": false,
        "id": "wD5CMtr2NN7V",
        "nbgrader": {
          "checksum": null,
          "grade": false,
          "grade_id": "cell-ae889d901ccfc5aa",
          "locked": true,
          "schema_version": 3,
          "solution": false
        }
      },
      "outputs": [],
      "source": [
        "check_equal(encode_variable(3, 6, 7), 367)\n"
      ]
    },
    {
      "cell_type": "code",
      "execution_count": null,
      "metadata": {
        "deletable": false,
        "id": "JsXnb6rsNN7V",
        "nbgrader": {
          "checksum": null,
          "grade": false,
          "grade_id": "cell-549959a68f2b85d4",
          "locked": false,
          "schema_version": 3,
          "solution": true
        }
      },
      "outputs": [],
      "source": [
        "def decode_variable(p):\n",
        "    \"\"\"Given an integer constructed as by _create_prediate above,\n",
        "    returns the tuple (d, i, j), where d is the digit, and i, j are\n",
        "    the cells where the digit is.  Returns None if the integer is out of\n",
        "    range.\n",
        "    Note that it must be: 1 <= d <= 9, 0 <= i <= 8, 0 <= j <= 8.\n",
        "    If this does not hold, return None.\n",
        "    Also return None if p is not in the range from 100, to 988 (the\n",
        "    highest and lowest values that p can assume).\n",
        "    Hint: modulo arithmetic via %, // is useful here!\"\"\"\n",
        "    # YOUR CODE HERE\n",
        "    if 100 <= p <= 988:\n",
        "      return (int(p // 100), int((p%100)//10), int(p % 10))\n",
        "    else:\n",
        "      return None\n"
      ]
    },
    {
      "cell_type": "code",
      "execution_count": null,
      "metadata": {
        "deletable": false,
        "editable": false,
        "id": "Fth3P18-NN7W",
        "nbgrader": {
          "checksum": null,
          "grade": true,
          "grade_id": "cell-de5ad0dc9c87ce81",
          "locked": true,
          "points": 10,
          "schema_version": 3,
          "solution": false
        }
      },
      "outputs": [],
      "source": [
        "for d in range(1, 10):\n",
        "    for i in range(9):\n",
        "        for j in range(9):\n",
        "            r = decode_variable(encode_variable(d, i, j))\n",
        "            check_equal((d, i, j), r)\n",
        "\n"
      ]
    },
    {
      "cell_type": "code",
      "execution_count": null,
      "metadata": {
        "deletable": false,
        "id": "5pR9Un3MNN7X",
        "nbgrader": {
          "checksum": null,
          "grade": false,
          "grade_id": "cell-62e8e10c5f6ad251",
          "locked": false,
          "schema_version": 3,
          "solution": true
        }
      },
      "outputs": [],
      "source": [
        "def every_cell_contains_at_least_one_digit():\n",
        "    \"\"\"Returns a list of clauses, stating that every cell must contain\n",
        "    at least one digit.\"\"\"\n",
        "    # YOUR CODE HERE\n",
        "    total = []\n",
        "    for i in range(9):\n",
        "      for j in range(9):\n",
        "        lis = []\n",
        "        for d in range(1,10):\n",
        "          number = encode_variable(d, i, j)\n",
        "          lis.append(number)\n",
        "        total.append(lis)\n",
        "    return total\n",
        "    \n"
      ]
    },
    {
      "cell_type": "code",
      "execution_count": null,
      "metadata": {
        "deletable": false,
        "editable": false,
        "id": "TiWsQ0BRNN7X",
        "nbgrader": {
          "checksum": null,
          "grade": true,
          "grade_id": "cell-c33be26c623c5807",
          "locked": true,
          "points": 10,
          "schema_version": 3,
          "solution": false
        }
      },
      "outputs": [],
      "source": [
        "def prepare(g):\n",
        "    for c in every_cell_contains_at_least_one_digit():\n",
        "        g.add_clause(c)\n",
        "\n",
        "with Glucose3() as g:\n",
        "    prepare(g)\n",
        "    # This can be solved.\n",
        "    check_equal(g.solve(), True)\n",
        "    for d in range(1, 10):\n",
        "        # These clauses state that no digit appears at 4, 5.\n",
        "        # You can change the coordinates if you like.\n",
        "        g.add_clause([-encode_variable(d, 4, 5)])\n",
        "    check_equal(g.solve(), False)\n",
        "\n"
      ]
    },
    {
      "cell_type": "code",
      "execution_count": null,
      "metadata": {
        "deletable": false,
        "id": "2phRqdyPNN7Y",
        "nbgrader": {
          "checksum": null,
          "grade": false,
          "grade_id": "cell-4bbe3f0626ade2c8",
          "locked": false,
          "schema_version": 3,
          "solution": true
        }
      },
      "outputs": [],
      "source": [
        "def every_cell_contains_at_most_one_digit():\n",
        "    \"\"\"Returns a list of clauses, stating that every cell contains\n",
        "    at most one digit.\"\"\"\n",
        "    # YOUR CODE HERE\n",
        "    total = []\n",
        "    for i in range(9):\n",
        "      for j in range(9):\n",
        "        for d in range(1,10):\n",
        "          for e in range(1, 10):\n",
        "            lis = []\n",
        "            number = encode_variable(d, i, j)\n",
        "            number2 = encode_variable(e, i, j)\n",
        "            if -number2 != -number:\n",
        "              lis.append(-number)\n",
        "              lis.append(-number2)\n",
        "              total.append(lis)\n",
        "    return total\n"
      ]
    },
    {
      "cell_type": "code",
      "execution_count": null,
      "metadata": {
        "deletable": false,
        "editable": false,
        "id": "p2Oz0h-8NN7Y",
        "nbgrader": {
          "checksum": null,
          "grade": true,
          "grade_id": "cell-a71eb0e7a8e11a4e",
          "locked": true,
          "points": 10,
          "schema_version": 3,
          "solution": false
        }
      },
      "outputs": [],
      "source": [
        "def prepare(g):\n",
        "    for c in every_cell_contains_at_most_one_digit():\n",
        "        g.add_clause(c)\n",
        "\n",
        "with Glucose3() as g:\n",
        "    prepare(g)\n",
        "    check_equal(g.solve(), True)\n",
        "    # This states that both 3 and 4 appear at position 6, 7.\n",
        "    g.add_clause([encode_variable(3, 6, 7)])\n",
        "    g.add_clause([encode_variable(4, 6, 7)])\n",
        "    check_equal(g.solve(), False)\n",
        "\n"
      ]
    },
    {
      "cell_type": "code",
      "execution_count": null,
      "metadata": {
        "deletable": false,
        "id": "ZLRVPVtaNN7Z",
        "nbgrader": {
          "checksum": null,
          "grade": false,
          "grade_id": "cell-3661f594537702c3",
          "locked": false,
          "schema_version": 3,
          "solution": true
        }
      },
      "outputs": [],
      "source": [
        "def no_identical_digits_in_same_row():\n",
        "    \"\"\"Returns a list of clauses, stating that if a digit appears\n",
        "    in a cell, the same digit cannot appear elsewhere in the\n",
        "    same row, column, or 3x3 square.\"\"\"\n",
        "    # YOUR CODE HERE\n",
        "    total = []\n",
        "    for d in range(1, 10):\n",
        "      for i in range(9):\n",
        "        for j in range(9):\n",
        "          for e in range(9):\n",
        "            lis = []\n",
        "            number = encode_variable(d, i, j)\n",
        "            number2 = encode_variable(d, i, e)\n",
        "            if -number2 != -number:\n",
        "              lis.append(-number)\n",
        "              lis.append(-number2)\n",
        "              total.append(lis)\n",
        "    return total\n"
      ]
    },
    {
      "cell_type": "code",
      "execution_count": null,
      "metadata": {
        "deletable": false,
        "editable": false,
        "id": "G3QzLgi9NN7Z",
        "nbgrader": {
          "checksum": null,
          "grade": true,
          "grade_id": "cell-2b7a0c6e0260620",
          "locked": true,
          "points": 10,
          "schema_version": 3,
          "solution": false
        }
      },
      "outputs": [],
      "source": [
        "def prepare(g):\n",
        "    for c in no_identical_digits_in_same_row():\n",
        "        g.add_clause(c)\n",
        "\n",
        "with Glucose3() as g:\n",
        "    prepare(g)\n",
        "    check_equal(g.solve(), True)\n",
        "    # This states that 3 appears twice in row 5.\n",
        "    g.add_clause([encode_variable(3, 5, 7)])\n",
        "    g.add_clause([encode_variable(3, 5, 8)])\n",
        "    check_equal(g.solve(), False)\n",
        "\n",
        "# But columns are not forbidden.\n",
        "with Glucose3() as g:\n",
        "    prepare(g)\n",
        "    g.add_clause([encode_variable(3, 5, 7)])\n",
        "    g.add_clause([encode_variable(3, 2, 7)])\n",
        "    check_equal(g.solve(), True)\n",
        "\n"
      ]
    },
    {
      "cell_type": "code",
      "execution_count": null,
      "metadata": {
        "deletable": false,
        "id": "EFQze0IGNN7a",
        "nbgrader": {
          "checksum": null,
          "grade": false,
          "grade_id": "cell-7d68063ed4ea5cce",
          "locked": false,
          "schema_version": 3,
          "solution": true
        }
      },
      "outputs": [],
      "source": [
        "def no_identical_digits_in_same_column():\n",
        "    \"\"\"Returns a list of clauses, stating that if a digit appears\n",
        "    in a cell, the same digit cannot appear elsewhere in the\n",
        "    same row, column, or 3x3 square.\"\"\"\n",
        "    # YOUR CODE HERE\n",
        "    total = []\n",
        "    for d in range(1, 10):\n",
        "      for i in range(9):\n",
        "        for j in range(9):\n",
        "          for e in range(9):\n",
        "            lis = []\n",
        "            number = encode_variable(d, i, j)\n",
        "            number2 = encode_variable(d, e, j)\n",
        "            if -number2 != -number:\n",
        "              lis.append(-number)\n",
        "              lis.append(-number2)\n",
        "              total.append(lis)\n",
        "    return total\n"
      ]
    },
    {
      "cell_type": "code",
      "execution_count": null,
      "metadata": {
        "deletable": false,
        "editable": false,
        "id": "Vo0sgGVANN7a",
        "nbgrader": {
          "checksum": null,
          "grade": true,
          "grade_id": "cell-45a5de0b8721a2ce",
          "locked": true,
          "points": 10,
          "schema_version": 3,
          "solution": false
        }
      },
      "outputs": [],
      "source": [
        "def prepare(g):\n",
        "    for c in no_identical_digits_in_same_column():\n",
        "        g.add_clause(c)\n",
        "\n",
        "with Glucose3() as g:\n",
        "    prepare(g)\n",
        "    check_equal(g.solve(), True)\n",
        "    # This states that 3 appears twice in column 7.\n",
        "    g.add_clause([encode_variable(3, 5, 7)])\n",
        "    g.add_clause([encode_variable(3, 2, 7)])\n",
        "    check_equal(g.solve(), False)\n",
        "\n",
        "# But rows are not forbidden.\n",
        "with Glucose3() as g:\n",
        "    prepare(g)\n",
        "    g.add_clause([encode_variable(3, 5, 7)])\n",
        "    g.add_clause([encode_variable(3, 5, 8)])\n",
        "    check_equal(g.solve(), True)\n",
        "\n"
      ]
    },
    {
      "cell_type": "code",
      "execution_count": null,
      "metadata": {
        "deletable": false,
        "id": "8alFOJ0-NN7a",
        "nbgrader": {
          "checksum": null,
          "grade": false,
          "grade_id": "cell-ee5be92ff3738af3",
          "locked": false,
          "schema_version": 3,
          "solution": true
        }
      },
      "outputs": [],
      "source": [
        "def no_identical_digits_in_same_block():\n",
        "    \"\"\"Returns a list of clauses, stating that if a digit appears\n",
        "    in a cell, the same digit cannot appear elsewhere in the\n",
        "    same row, column, or 3x3 square.\"\"\"\n",
        "    # YOUR CODE HERE\n",
        "    total = []\n",
        "    for i in range(9):\n",
        "      for j in range(9):\n",
        "        j1 = j // 3\n",
        "        i1 = i // 3\n",
        "        for l in range(i1 * 3, i1 * 3 + 3):\n",
        "          for m in range(j1 * 3, j1 * 3 + 3):\n",
        "            for d in range(1, 10):\n",
        "              if (l, m) != (i, j):\n",
        "                total.append([-encode_variable(d, j, i), -encode_variable(d, m, l)])\n",
        "    return total\n"
      ]
    },
    {
      "cell_type": "code",
      "execution_count": null,
      "metadata": {
        "deletable": false,
        "editable": false,
        "id": "hgiXrMXVNN7b",
        "nbgrader": {
          "checksum": null,
          "grade": true,
          "grade_id": "cell-fb94c1c4bc94f034",
          "locked": true,
          "points": 10,
          "schema_version": 3,
          "solution": false
        }
      },
      "outputs": [],
      "source": [
        "def prepare(g):\n",
        "    for c in no_identical_digits_in_same_block():\n",
        "        g.add_clause(c)\n",
        "\n",
        "with Glucose3() as g:\n",
        "    prepare(g)\n",
        "    check_equal(g.solve(), True)\n",
        "    # This states that 3 appears twice in top block\n",
        "    g.add_clause([encode_variable(3, 1, 1)])\n",
        "    g.add_clause([encode_variable(3, 1, 2)])\n",
        "    check_equal(g.solve(), False)\n",
        "\n",
        "# One more test.\n",
        "with Glucose3() as g:\n",
        "    prepare(g)\n",
        "    g.add_clause([encode_variable(3, 1, 1)])\n",
        "    g.add_clause([encode_variable(3, 2, 1)])\n",
        "    check_equal(g.solve(), False)\n",
        "\n",
        "# But different blocks are not forbidden.\n",
        "with Glucose3() as g:\n",
        "    prepare(g)\n",
        "    g.add_clause([encode_variable(3, 1, 1)])\n",
        "    g.add_clause([encode_variable(3, 5, 8)])\n",
        "    check_equal(g.solve(), True)\n",
        "\n"
      ]
    },
    {
      "cell_type": "code",
      "execution_count": null,
      "metadata": {
        "deletable": false,
        "editable": false,
        "id": "UbpZ1H4kNN7b",
        "nbgrader": {
          "checksum": null,
          "grade": false,
          "grade_id": "cell-e3c70245bb6b5e35",
          "locked": true,
          "schema_version": 3,
          "solution": false
        }
      },
      "outputs": [],
      "source": [
        "def sudoku_rules():\n",
        "    clauses = []\n",
        "    clauses.extend(every_cell_contains_at_least_one_digit())\n",
        "    clauses.extend(every_cell_contains_at_most_one_digit())\n",
        "    clauses.extend(no_identical_digits_in_same_row())\n",
        "    clauses.extend(no_identical_digits_in_same_column())\n",
        "    clauses.extend(no_identical_digits_in_same_block())\n",
        "    return clauses\n"
      ]
    },
    {
      "cell_type": "code",
      "execution_count": null,
      "metadata": {
        "deletable": false,
        "editable": false,
        "id": "eeJrDjxHNN7b",
        "nbgrader": {
          "checksum": null,
          "grade": true,
          "grade_id": "cell-8e37658cb1b6d8c2",
          "locked": true,
          "points": 10,
          "schema_version": 3,
          "solution": false
        }
      },
      "outputs": [],
      "source": [
        "with Glucose3() as g:\n",
        "    for c in sudoku_rules():\n",
        "        g.add_clause(c)\n",
        "    check_equal(g.solve(), True)\n",
        "\n"
      ]
    },
    {
      "cell_type": "code",
      "execution_count": null,
      "metadata": {
        "deletable": false,
        "id": "mmYZxvB-NN7c",
        "nbgrader": {
          "checksum": null,
          "grade": false,
          "grade_id": "cell-7f51ce1d097eae09",
          "locked": false,
          "schema_version": 3,
          "solution": true
        }
      },
      "outputs": [],
      "source": [
        "def _board_to_SAT(self):\n",
        "    \"\"\"Translates the currently known state of the board into a list of SAT\n",
        "    clauses.  Each clause has only one literal, and expresses the fact that a\n",
        "    given digit is in a given position.  The method returns the list of clauses\n",
        "    corresponding to all the initially known Sudoku digits.\"\"\"\n",
        "    # YOUR CODE HERE\n",
        "    clauses = []\n",
        "    rowcount = 0\n",
        "    for i in range(9):\n",
        "      for j in range(9):\n",
        "        if self.board[i][j] != 0:\n",
        "          clauses.append([encode_variable(self.board[i][j], i, j)])\n",
        "    return clauses\n",
        "\n",
        "SudokuViaSAT._board_to_SAT = _board_to_SAT\n"
      ]
    },
    {
      "cell_type": "code",
      "execution_count": null,
      "metadata": {
        "deletable": false,
        "editable": false,
        "id": "iG00kdY3NN7c",
        "nbgrader": {
          "checksum": null,
          "grade": true,
          "grade_id": "cell-71405cb1905e8231",
          "locked": true,
          "points": 10,
          "schema_version": 3,
          "solution": false
        }
      },
      "outputs": [],
      "source": [
        "\n",
        "problem = \"000000061350000000400050000020000800000601000000700000000080200600400000007000010\"\n",
        "sd = SudokuViaSAT(problem)\n",
        "sd.show()\n",
        "clauses = sd._board_to_SAT()\n",
        "check_equal(len(clauses), 17)\n",
        "check_equal([310] in clauses, True)\n",
        "check_equal([511] in clauses, True)\n",
        "check_equal([224] in clauses, False)\n",
        "\n",
        "# This should print the elements of the board.\n",
        "for c in sd._board_to_SAT():\n",
        "    print(c)\n",
        "\n"
      ]
    },
    {
      "cell_type": "code",
      "execution_count": null,
      "metadata": {
        "deletable": false,
        "editable": false,
        "id": "7l0NzDayNN7d",
        "nbgrader": {
          "checksum": null,
          "grade": false,
          "grade_id": "cell-26255ba183078ac6",
          "locked": true,
          "schema_version": 3,
          "solution": false
        }
      },
      "outputs": [],
      "source": [
        "def _to_SAT(self):\n",
        "    return list(sudoku_rules()) + list(self._board_to_SAT())\n",
        "\n",
        "SudokuViaSAT._to_SAT = _to_SAT\n"
      ]
    },
    {
      "cell_type": "code",
      "execution_count": null,
      "metadata": {
        "deletable": false,
        "editable": false,
        "id": "QyL0fAR2NN7d",
        "nbgrader": {
          "checksum": null,
          "grade": true,
          "grade_id": "cell-58993fa9efe00553",
          "locked": true,
          "points": 10,
          "schema_version": 3,
          "solution": false
        }
      },
      "outputs": [],
      "source": [
        "problem = \"000000061350000000400050000020000800000601000000700000000080200600400000007000010\"\n",
        "sd = SudokuViaSAT(problem)\n",
        "with Glucose3() as g:\n",
        "    for c in sd._to_SAT():\n",
        "        g.add_clause(c)\n",
        "    check_equal(g.solve(), True)\n",
        "\n",
        "problem = \"000000061350000000404050000020000800000601000000700000000080200600400000007000010\"\n",
        "sd = SudokuViaSAT(problem)\n",
        "with Glucose3() as g:\n",
        "    for c in sd._to_SAT():\n",
        "        for j in c:\n",
        "            g.add_clause(c)\n",
        "    check_equal(g.solve(), False)\n",
        "\n"
      ]
    },
    {
      "cell_type": "code",
      "execution_count": null,
      "metadata": {
        "deletable": false,
        "editable": false,
        "id": "RR4ktEDsNN7e",
        "nbgrader": {
          "checksum": null,
          "grade": false,
          "grade_id": "cell-aa019e2753b1a70e",
          "locked": true,
          "schema_version": 3,
          "solution": false
        }
      },
      "outputs": [],
      "source": [
        "problem = \"000000061350000000400050000020000800000601000000700000000080200600400000007000010\"\n",
        "sd = SudokuViaSAT(problem)\n",
        "with Glucose3() as g:\n",
        "    for c in sd._to_SAT():\n",
        "        g.add_clause(c)\n",
        "    check_equal(g.solve(), True)\n",
        "    # Let's get a truth assignment.\n",
        "    ps = g.get_model()\n",
        "    print(ps)\n"
      ]
    },
    {
      "cell_type": "code",
      "execution_count": null,
      "metadata": {
        "deletable": false,
        "editable": false,
        "id": "igDQLL2ANN7e",
        "nbgrader": {
          "checksum": null,
          "grade": false,
          "grade_id": "cell-95e4e787b4fc681c",
          "locked": true,
          "schema_version": 3,
          "solution": false
        }
      },
      "outputs": [],
      "source": [
        "for l in ps:\n",
        "    if l > 0 and decode_variable(l) is not None:\n",
        "        print(decode_variable(l))\n"
      ]
    },
    {
      "cell_type": "code",
      "execution_count": null,
      "metadata": {
        "deletable": false,
        "id": "SRnTGK6rNN7f",
        "nbgrader": {
          "checksum": null,
          "grade": false,
          "grade_id": "cell-253b68dd1f1b64c7",
          "locked": false,
          "schema_version": 3,
          "solution": true
        }
      },
      "outputs": [],
      "source": [
        "def solve(self, Solver):\n",
        "    \"\"\"Solves the Sudoku instance using the given SAT solver\n",
        "    (e.g., Glucose3, Minisat22).\n",
        "    @param Solver: a solver, such as Glucose3, Minisat22.\n",
        "    @returns: False, if the Sudoku problem is not solvable, and True, if it is.\n",
        "        In the latter case, the solve method also completes self.board,\n",
        "        using the solution of SAT to complete the board.\"\"\"\n",
        "    # YOUR CODE HERE\n",
        "    with Solver() as g:\n",
        "        for c in self._to_SAT():\n",
        "            g.add_clause(c)\n",
        "        if g.solve() is False:\n",
        "          return False\n",
        "        ps = g.get_model()\n",
        "        fill = []\n",
        "        for l in ps:\n",
        "           if l > 0 and decode_variable(l) is not None:\n",
        "             fill.append(decode_variable(l))\n",
        "        for tup in fill:\n",
        "          self.board[tup[1], tup[2]] = tup[0]\n",
        "    return True\n",
        "\n",
        "\n",
        "SudokuViaSAT.solve = solve\n"
      ]
    },
    {
      "cell_type": "code",
      "execution_count": null,
      "metadata": {
        "deletable": false,
        "editable": false,
        "id": "jiafqOurNN7f",
        "nbgrader": {
          "checksum": null,
          "grade": false,
          "grade_id": "cell-2e0f815cdd7b25e1",
          "locked": true,
          "schema_version": 3,
          "solution": false
        }
      },
      "outputs": [],
      "source": [
        "problem = \"000000061350000000400050000020000800000601000000700000000080200600400000007000010\"\n",
        "sd = SudokuViaSAT(problem)\n",
        "sd.show()\n",
        "sd.solve(Glucose3)\n",
        "sd.show()\n"
      ]
    },
    {
      "cell_type": "code",
      "execution_count": null,
      "metadata": {
        "deletable": false,
        "editable": false,
        "id": "sHUPnrkPNN7f",
        "nbgrader": {
          "checksum": null,
          "grade": false,
          "grade_id": "cell-90060ad1ad571fd8",
          "locked": true,
          "schema_version": 3,
          "solution": false
        }
      },
      "outputs": [],
      "source": [
        "def verify_solution(Solver, sudoku_string):\n",
        "    sd = SudokuViaSAT(sudoku_string)\n",
        "    sd.solve(Solver)\n",
        "    # Check that we leave alone the original assignment.\n",
        "    for i in range(9):\n",
        "        for j in range(9):\n",
        "            d = int(sudoku_string[i * 9 + j])\n",
        "            if d > 0:\n",
        "                assert sd.board[i, j] == d\n",
        "    # Check that there is a digit in every cell.\n",
        "    for i in range(9):\n",
        "        for j in range(9):\n",
        "            assert 1 <= sd.board[i, j] <= 9\n",
        "    # Check the exclusion rules of Sudoku.\n",
        "    for i in range(9):\n",
        "        for j in range(9):\n",
        "            # No repetition in row.\n",
        "            for ii in range(i + 1, 9):\n",
        "                assert sd.board[i, j] != sd.board[ii, j]\n",
        "            # No repetition in column.\n",
        "            for jj in range(j + 1, 9):\n",
        "                assert sd.board[i, j] != sd.board[i, jj]\n",
        "            # No repetition in block\n",
        "            ci, cj = i // 3, j // 3\n",
        "            for bi in range(2):\n",
        "                ii = ci * 3 + bi\n",
        "                for bj in range(2):\n",
        "                    jj = cj * 3 + bj\n",
        "                    if i != ii or j != jj:\n",
        "                        assert sd.board[i, j] != sd.board[ii, jj]\n"
      ]
    },
    {
      "cell_type": "code",
      "execution_count": null,
      "metadata": {
        "deletable": false,
        "editable": false,
        "id": "4MJZxW50NN7f",
        "nbgrader": {
          "checksum": null,
          "grade": false,
          "grade_id": "cell-2e4a5ae0d8f0b677",
          "locked": true,
          "schema_version": 3,
          "solution": false
        }
      },
      "outputs": [],
      "source": [
        "verify_solution(Glucose3, problem)\n"
      ]
    },
    {
      "cell_type": "code",
      "execution_count": null,
      "metadata": {
        "deletable": false,
        "editable": false,
        "id": "fyKYwUNgNN7g",
        "nbgrader": {
          "checksum": null,
          "grade": false,
          "grade_id": "cell-21be87a20beeeb39",
          "locked": true,
          "schema_version": 3,
          "solution": false
        }
      },
      "outputs": [],
      "source": [
        "import requests\n",
        "\n",
        "r = requests.get(\"https://raw.githubusercontent.com/shadaj/sudoku/master/sudoku17.txt\")\n",
        "puzzles = r.text.split()\n"
      ]
    },
    {
      "cell_type": "code",
      "execution_count": null,
      "metadata": {
        "deletable": false,
        "editable": false,
        "id": "-jxqAM59NN7g",
        "nbgrader": {
          "checksum": null,
          "grade": true,
          "grade_id": "cell-4bac1365e179adb3",
          "locked": true,
          "points": 10,
          "schema_version": 3,
          "solution": false
        }
      },
      "outputs": [],
      "source": [
        "for problem in puzzles[:100]:\n",
        "    verify_solution(Glucose3, problem)\n",
        "\n"
      ]
    },
    {
      "cell_type": "code",
      "execution_count": null,
      "metadata": {
        "deletable": false,
        "editable": false,
        "id": "Rs5rATwaNN7g",
        "nbgrader": {
          "checksum": null,
          "grade": false,
          "grade_id": "cell-31a3cfd960520f62",
          "locked": true,
          "schema_version": 3,
          "solution": false
        }
      },
      "outputs": [],
      "source": [
        "import time\n",
        "\n",
        "def compute_performance(problem_idx):\n",
        "    for Solver in [Glucose3, Glucose4, Minisat22]:\n",
        "        t = time.time()\n",
        "        sd = SudokuViaSAT(puzzles[problem_idx])\n",
        "        sd.solve(Solver)\n",
        "        dt = time.time() - t\n",
        "        print(Solver.__name__, \":\", dt)\n"
      ]
    },
    {
      "cell_type": "code",
      "execution_count": null,
      "metadata": {
        "deletable": false,
        "editable": false,
        "id": "brYr6imsNN7g",
        "nbgrader": {
          "checksum": null,
          "grade": false,
          "grade_id": "cell-ca136af2f97437d",
          "locked": true,
          "schema_version": 3,
          "solution": false
        }
      },
      "outputs": [],
      "source": [
        "compute_performance(6361)\n"
      ]
    },
    {
      "cell_type": "code",
      "execution_count": null,
      "metadata": {
        "deletable": false,
        "editable": false,
        "id": "kjywjxVTNN7h",
        "nbgrader": {
          "checksum": null,
          "grade": false,
          "grade_id": "cell-8cbc9590dc1a6144",
          "locked": true,
          "schema_version": 3,
          "solution": false
        }
      },
      "outputs": [],
      "source": [
        "compute_performance(1258)\n",
        "compute_performance(5302)\n",
        "compute_performance(10980)\n",
        "compute_performance(25632)\n",
        "compute_performance(48287)\n"
      ]
    },
    {
      "cell_type": "code",
      "execution_count": null,
      "metadata": {
        "deletable": false,
        "editable": false,
        "id": "awUVumV_NN7h",
        "nbgrader": {
          "checksum": null,
          "grade": false,
          "grade_id": "cell-dce54b8eb8b3ae7b",
          "locked": true,
          "schema_version": 3,
          "solution": false
        }
      },
      "outputs": [],
      "source": [
        "def compute_performance(Solver, num_problems):\n",
        "    max_time = 0\n",
        "    for idx, problem in enumerate(puzzles[:num_problems]):\n",
        "        t = time.time()\n",
        "        sd = SudokuViaSAT(problem)\n",
        "        sd.solve(Solver)\n",
        "        dt = time.time() - t\n",
        "        if dt > max_time:\n",
        "            print(idx, \":\", dt)\n",
        "            max_time = dt\n"
      ]
    },
    {
      "cell_type": "code",
      "execution_count": null,
      "metadata": {
        "deletable": false,
        "editable": false,
        "id": "rF9Y_HuUNN7h",
        "nbgrader": {
          "checksum": null,
          "grade": false,
          "grade_id": "cell-1670c4fe1f1f51a",
          "locked": true,
          "schema_version": 3,
          "solution": false
        }
      },
      "outputs": [],
      "source": [
        "compute_performance(Glucose4, 1000)\n"
      ]
    }
  ],
  "metadata": {
    "colab": {
      "provenance": []
    },
    "kernelspec": {
      "display_name": "Python 3",
      "language": "python",
      "name": "python3"
    },
    "language_info": {
      "codemirror_mode": {
        "name": "ipython",
        "version": 3
      },
      "file_extension": ".py",
      "mimetype": "text/x-python",
      "name": "python",
      "nbconvert_exporter": "python",
      "pygments_lexer": "ipython3",
      "version": "3.8.10"
    },
    "test_info": {
      "id": "262022a9c5bdd8469ea587b4451190c990a02180"
    }
  },
  "nbformat": 4,
  "nbformat_minor": 0
}