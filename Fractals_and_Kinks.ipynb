{
  "cells": [
    {
      "cell_type": "code",
      "execution_count": null,
      "id": "96a4728a",
      "metadata": {
        "deletable": false,
        "editable": false,
        "id": "96a4728a",
        "nbgrader": {
          "cell_type": "code",
          "checksum": "cbf191fbeec2a45699173b82afe763b9",
          "grade": false,
          "grade_id": "cell-2f4209586dc1203c",
          "locked": true,
          "schema_version": 3,
          "solution": false
        }
      },
      "outputs": [],
      "source": [
        "import matplotlib.pyplot as plt\n",
        "\n",
        "def draw_polygon(*coords, closed=True):\n",
        "    co = list(coords)\n",
        "    fix, ax = plt.subplots(1, 1)\n",
        "    if closed and co[0] != co[-1]:\n",
        "        co.append(co[0]) # Repeat first point\n",
        "    xs, ys = zip(*co) # Splits coordinates\n",
        "    ax.set_aspect('equal', 'box')\n",
        "    ax.plot(xs, ys)\n",
        "    plt.show()\n"
      ]
    },
    {
      "cell_type": "code",
      "execution_count": null,
      "id": "2c1b535e",
      "metadata": {
        "deletable": false,
        "editable": false,
        "id": "2c1b535e",
        "nbgrader": {
          "cell_type": "code",
          "checksum": "6177c6d7bfed33379f378e542a81d27d",
          "grade": false,
          "grade_id": "cell-604a5182c172588a",
          "locked": true,
          "schema_version": 3,
          "solution": false
        }
      },
      "outputs": [],
      "source": [
        "draw_polygon((0, 0), (1, 2), (2, 0))\n"
      ]
    },
    {
      "cell_type": "code",
      "execution_count": null,
      "id": "94229039",
      "metadata": {
        "deletable": false,
        "editable": false,
        "id": "94229039",
        "nbgrader": {
          "cell_type": "code",
          "checksum": "2a23007c93c4284b94c78571ad1f2daf",
          "grade": false,
          "grade_id": "cell-271a423f733d9f91",
          "locked": true,
          "schema_version": 3,
          "solution": false
        }
      },
      "outputs": [],
      "source": [
        "draw_polygon((0, 0), (1, 0), closed=False)\n"
      ]
    },
    {
      "cell_type": "code",
      "execution_count": null,
      "id": "d81b4dcb",
      "metadata": {
        "deletable": false,
        "editable": false,
        "id": "d81b4dcb",
        "nbgrader": {
          "cell_type": "code",
          "checksum": "1b242be7646723d9956aef3a190b636a",
          "grade": false,
          "grade_id": "cell-89521be7059a7ed8",
          "locked": true,
          "schema_version": 3,
          "solution": false
        }
      },
      "outputs": [],
      "source": [
        "draw_polygon((0, 0), (0.25, 0), (0.5, 0.25), (0.75, 0), (1, 0), closed=False)\n"
      ]
    },
    {
      "cell_type": "code",
      "execution_count": null,
      "id": "9b7ac5d5",
      "metadata": {
        "deletable": false,
        "editable": false,
        "id": "9b7ac5d5",
        "nbgrader": {
          "cell_type": "code",
          "checksum": "0098cf6c499190416936601494245686",
          "grade": false,
          "grade_id": "cell-10bb1d576192b0db",
          "locked": true,
          "schema_version": 3,
          "solution": false
        }
      },
      "outputs": [],
      "source": [
        "draw_polygon((0, 0), (0, -1), closed=False)\n"
      ]
    },
    {
      "cell_type": "code",
      "execution_count": null,
      "id": "ec6d4e73",
      "metadata": {
        "deletable": false,
        "editable": false,
        "id": "ec6d4e73",
        "nbgrader": {
          "cell_type": "code",
          "checksum": "0c72e637f0adfacf7c4e1df72f200282",
          "grade": false,
          "grade_id": "cell-774cb26e7f5e97de",
          "locked": true,
          "schema_version": 3,
          "solution": false
        }
      },
      "outputs": [],
      "source": [
        "draw_polygon((0, 0), (0, -0.25), (0.25, -0.5), (0, -0.75), (0, -1), closed=False)\n"
      ]
    },
    {
      "cell_type": "code",
      "execution_count": null,
      "id": "69862449",
      "metadata": {
        "deletable": false,
        "id": "69862449",
        "nbgrader": {
          "cell_type": "code",
          "checksum": "eeab6c76f9ba61532fe2c27b4546bef8",
          "grade": false,
          "grade_id": "cell-c8a16fb8e2951a5e",
          "locked": false,
          "schema_version": 3,
          "solution": true
        }
      },
      "outputs": [],
      "source": [
        "def kink(p0, p1):\n",
        "    \"\"\"Returns the tuple of the four points q0, q1, q2, q3, resulting from kinking p0, p1.\n",
        "    Note that each q is returned as a two-element tuple.\"\"\"\n",
        "    # YOUR CODE HERE\n",
        "    q0 = p0\n",
        "    direction = (p1[0] - p0[0], p1[1] - p0[1])\n",
        "    v = (-1 * direction[1], direction[0])\n",
        "    v2 = (tuple(i * 0.25 for i in v))\n",
        "    direction1 = (tuple(i * 0.25 for i in direction))\n",
        "    direction2 = (tuple(i * 0.5 for i in direction))\n",
        "    direction3 = (tuple(i * 0.75 for i in direction))\n",
        "    q1 = tuple(a + b for a, b in zip(q0, direction1))\n",
        "    q2 = tuple(a + b +c for a, b, c in zip(direction2, v2, q0))\n",
        "    q3 = tuple(a + b for a, b in zip(q0, direction3))\n",
        "    final = (q0, q1, q2, q3)\n",
        "    return final"
      ]
    },
    {
      "cell_type": "code",
      "execution_count": null,
      "id": "0783ff6f",
      "metadata": {
        "deletable": false,
        "id": "0783ff6f",
        "nbgrader": {
          "cell_type": "code",
          "checksum": "d8abe34a3842cece6797f7eb10fc8d6c",
          "grade": false,
          "grade_id": "cell-912ef8324b82d50b",
          "locked": false,
          "schema_version": 3,
          "solution": true
        }
      },
      "outputs": [],
      "source": [
        "# YOUR CODE HERE\n",
        "def kink(p0, p1):\n",
        "    \"\"\"Returns the tuple of the four points q0, q1, q2, q3, resulting from kinking p0, p1.\n",
        "    Note that each q is returned as a two-element tuple.\"\"\"\n",
        "    q0 = p0\n",
        "    direction = (p1[0] - p0[0], p1[1] - p0[1])\n",
        "    v = (-1 * direction[1], direction[0])\n",
        "    v2 = (tuple(i * 0.25 for i in v))\n",
        "    direction1 = (tuple(i * 0.25 for i in direction))\n",
        "    direction2 = (tuple(i * 0.5 for i in direction))\n",
        "    direction3 = (tuple(i * 0.75 for i in direction))\n",
        "    q1 = tuple(a + b for a, b in zip(q0, direction1))\n",
        "    q2 = tuple(a + b + c for a, b, c in zip(direction2, v2, q0))\n",
        "    q3 = tuple(a + b for a, b in zip(q0, direction3))\n",
        "    final = (q0, q1, q2, q3)\n",
        "    return final\n"
      ]
    },
    {
      "cell_type": "code",
      "execution_count": null,
      "id": "84e9191c",
      "metadata": {
        "deletable": false,
        "editable": false,
        "id": "84e9191c",
        "nbgrader": {
          "cell_type": "code",
          "checksum": "f316e5e4e03c9e03250c772a9e60599d",
          "grade": false,
          "grade_id": "cell-174a56da701d02e1",
          "locked": true,
          "schema_version": 3,
          "solution": false
        }
      },
      "outputs": [],
      "source": [
        "assert kink((0, 0), (1, 0)) == ((0, 0), (0.25, 0.0), (0.5, 0.25), (0.75, 0.0))\n",
        "assert kink((0, 0), (0, -1)) == ((0, 0), (0.0, -0.25), (0.25, -0.5), (0.0, -0.75))\n"
      ]
    },
    {
      "cell_type": "code",
      "execution_count": null,
      "id": "e59edb44",
      "metadata": {
        "deletable": false,
        "editable": false,
        "id": "e59edb44",
        "nbgrader": {
          "cell_type": "code",
          "checksum": "661bec9fc979e78617436563742fc3e6",
          "grade": false,
          "grade_id": "cell-e34d2013f95d0b64",
          "locked": true,
          "schema_version": 3,
          "solution": false
        }
      },
      "outputs": [],
      "source": [
        "def approxeq(list1, list2, epsilon=0.001):\n",
        "    assert len(list1) == len(list2)\n",
        "    for p1, p2 in zip(list1, list2):\n",
        "        x1, y1 = p1\n",
        "        x2, y2 = p2\n",
        "        assert abs(x2 - x1) < epsilon and abs(y2 - y1) < epsilon\n"
      ]
    },
    {
      "cell_type": "code",
      "execution_count": null,
      "id": "7e0862a4",
      "metadata": {
        "deletable": false,
        "editable": false,
        "id": "7e0862a4",
        "nbgrader": {
          "cell_type": "code",
          "checksum": "f8aa44ca0ab6e15cf8ae8db39da56deb",
          "grade": false,
          "grade_id": "cell-14a6239e721e4c71",
          "locked": true,
          "schema_version": 3,
          "solution": false
        }
      },
      "outputs": [],
      "source": [
        "approxeq(kink((0, 0), (1, 0)), ((0, 0), (0.25, 0.0), (0.5, 0.25), (0.75, 0.0)))\n"
      ]
    },
    {
      "cell_type": "code",
      "execution_count": null,
      "id": "bba96fc2",
      "metadata": {
        "deletable": false,
        "editable": false,
        "id": "bba96fc2",
        "nbgrader": {
          "cell_type": "code",
          "checksum": "c4b877f8ae50e03871d382cc32f98742",
          "grade": true,
          "grade_id": "cell-73e1f43f0ff453dc",
          "locked": true,
          "points": 10,
          "schema_version": 3,
          "solution": false
        }
      },
      "outputs": [],
      "source": [
        "approxeq(kink((0, 0), (4, 5)), ((0, 0), (1.0, 1.25), (0.75, 3.5), (3.0, 3.75)))\n",
        "approxeq(kink((4, 3), (-9, -1)), ((4, 3), (0.75, 2.0), (-1.5, -2.25), (-5.75, 0.0)))\n",
        "\n",
        "### BEGIN HIDDEN TESTS\n",
        "approxeq(kink((-3, -4), (3, -1)), ((-3, -4), (-1.5, -3.25), (-0.75, -1.0), (1.5, -1.75)))\n",
        "approxeq(kink((3, 5), (1, 12)), ((3, 5), (2.5, 6.75), (0.25, 8.0), (1.5, 10.25)))\n",
        "### END HIDDEN TESTS\n"
      ]
    },
    {
      "cell_type": "code",
      "execution_count": null,
      "id": "0e9e9f60",
      "metadata": {
        "deletable": false,
        "editable": false,
        "id": "0e9e9f60",
        "nbgrader": {
          "cell_type": "code",
          "checksum": "9457cdf1031f58298028886336e66fcc",
          "grade": false,
          "grade_id": "cell-f7a7e6e96a3126cf",
          "locked": true,
          "schema_version": 3,
          "solution": false
        }
      },
      "outputs": [],
      "source": [
        "poly1 = [(0, 0), (1, 2), (2, 0)]\n",
        "draw_polygon(*poly1)\n"
      ]
    },
    {
      "cell_type": "code",
      "execution_count": null,
      "id": "1d1dead6",
      "metadata": {
        "deletable": false,
        "id": "1d1dead6",
        "nbgrader": {
          "cell_type": "code",
          "checksum": "eff589df81709f21e20097ae43abe1c6",
          "grade": false,
          "grade_id": "cell-2d5cc9db47362620",
          "locked": false,
          "schema_version": 3,
          "solution": true
        }
      },
      "outputs": [],
      "source": [
        "def kink_polygon(poly):\n",
        "    # YOUR CODE HERE\n",
        "  final = []\n",
        "  for tup in range(0, (len(poly)-1)):\n",
        "    kinks = kink(poly[tup], poly[tup+1])\n",
        "    last = kink(poly[-1], poly[0])\n",
        "    final += kinks\n",
        "    if last not in final:\n",
        "      final += last\n",
        "  return final"
      ]
    },
    {
      "cell_type": "code",
      "execution_count": null,
      "id": "bac73f62",
      "metadata": {
        "deletable": false,
        "id": "bac73f62",
        "nbgrader": {
          "cell_type": "code",
          "checksum": "653ee49381730897b2d4fd14980a1275",
          "grade": false,
          "grade_id": "cell-6bb9ccf63259d739",
          "locked": false,
          "schema_version": 3,
          "solution": true
        }
      },
      "outputs": [],
      "source": [
        "# You can use this space to debug your code.\n",
        "\n",
        "# YOUR CODE HERE\n",
        "def kink_polygon(poly):\n",
        "    # YOUR CODE HERE\n",
        "  final = []\n",
        "  for tup in range(0, (len(poly)-1)):\n",
        "    kinks = kink(poly[tup], poly[tup+1])\n",
        "    final += kinks\n",
        "  last = kink(poly[-1], poly[0])\n",
        "  final += last\n",
        "  return final"
      ]
    },
    {
      "cell_type": "code",
      "execution_count": null,
      "id": "f1457566",
      "metadata": {
        "deletable": false,
        "editable": false,
        "id": "f1457566",
        "nbgrader": {
          "cell_type": "code",
          "checksum": "cfa278757946df44a79a93e328a85829",
          "grade": false,
          "grade_id": "cell-600cf8159ecee8cf",
          "locked": true,
          "schema_version": 3,
          "solution": false
        }
      },
      "outputs": [],
      "source": [
        "poly1 = [(0, 0), (1, 2), (2, 0)]\n",
        "poly2 = kink_polygon(poly1)\n",
        "draw_polygon(*poly2)\n"
      ]
    },
    {
      "cell_type": "code",
      "execution_count": null,
      "id": "4a6f87a1",
      "metadata": {
        "deletable": false,
        "editable": false,
        "id": "4a6f87a1",
        "nbgrader": {
          "cell_type": "code",
          "checksum": "9218d3268bd95b8d57ed26a9c69d0ec2",
          "grade": false,
          "grade_id": "cell-95af54f9cba36f3c",
          "locked": true,
          "schema_version": 3,
          "solution": false
        }
      },
      "outputs": [],
      "source": [
        "poly3 = kink_polygon(poly2)\n",
        "draw_polygon(*poly3)\n"
      ]
    },
    {
      "cell_type": "code",
      "execution_count": null,
      "id": "d6256ed5",
      "metadata": {
        "deletable": false,
        "editable": false,
        "id": "d6256ed5",
        "nbgrader": {
          "cell_type": "code",
          "checksum": "39034a144b495bb38998a4d7e43e411d",
          "grade": false,
          "grade_id": "cell-9892e087aed7e908",
          "locked": true,
          "schema_version": 3,
          "solution": false
        }
      },
      "outputs": [],
      "source": [
        "poly1 = [(0, 0), (1, 2), (2, 0)]\n",
        "poly2 = kink_polygon(poly1)\n",
        "approxeq(poly2, [(0, 0),\n",
        " (0.25, 0.5),\n",
        " (0.0, 1.25),\n",
        " (0.75, 1.5),\n",
        " (1, 2),\n",
        " (1.25, 1.5),\n",
        " (2.0, 1.25),\n",
        " (1.75, 0.5),\n",
        " (2, 0),\n",
        " (1.5, 0.0),\n",
        " (1.0, -0.5),\n",
        " (0.5, 0.0)])\n",
        "poly3 = kink_polygon(poly2)\n",
        "approxeq(poly3, [(0, 0),\n",
        " (0.0625, 0.125),\n",
        " (0.0, 0.3125),\n",
        " (0.1875, 0.375),\n",
        " (0.25, 0.5),\n",
        " (0.1875, 0.6875),\n",
        " (-0.0625, 0.8125),\n",
        " (0.0625, 1.0625),\n",
        " (0.0, 1.25),\n",
        " (0.1875, 1.3125),\n",
        " (0.3125, 1.5625),\n",
        " (0.5625, 1.4375),\n",
        " (0.75, 1.5),\n",
        " (0.8125, 1.625),\n",
        " (0.75, 1.8125),\n",
        " (0.9375, 1.875),\n",
        " (1, 2),\n",
        " (1.0625, 1.875),\n",
        " (1.25, 1.8125),\n",
        " (1.1875, 1.625),\n",
        " (1.25, 1.5),\n",
        " (1.4375, 1.4375),\n",
        " (1.6875, 1.5625),\n",
        " (1.8125, 1.3125),\n",
        " (2.0, 1.25),\n",
        " (1.9375, 1.0625),\n",
        " (2.0625, 0.8125),\n",
        " (1.8125, 0.6875),\n",
        " (1.75, 0.5),\n",
        " (1.8125, 0.375),\n",
        " (2.0, 0.3125),\n",
        " (1.9375, 0.125),\n",
        " (2, 0),\n",
        " (1.875, 0.0),\n",
        " (1.75, -0.125),\n",
        " (1.625, 0.0),\n",
        " (1.5, 0.0),\n",
        " (1.375, -0.125),\n",
        " (1.375, -0.375),\n",
        " (1.125, -0.375),\n",
        " (1.0, -0.5),\n",
        " (0.875, -0.375),\n",
        " (0.625, -0.375),\n",
        " (0.625, -0.125),\n",
        " (0.5, 0.0),\n",
        " (0.375, 0.0),\n",
        " (0.25, -0.125),\n",
        " (0.125, 0.0)])\n"
      ]
    },
    {
      "cell_type": "code",
      "execution_count": null,
      "id": "db69ac0a",
      "metadata": {
        "deletable": false,
        "editable": false,
        "id": "db69ac0a",
        "nbgrader": {
          "cell_type": "code",
          "checksum": "650eacd5e174b5c87b76df352e82a2f2",
          "grade": true,
          "grade_id": "cell-c040a1dcdf1c8c1a",
          "locked": true,
          "points": 10,
          "schema_version": 3,
          "solution": false
        }
      },
      "outputs": [],
      "source": [
        "### BEGIN HIDDEN TESTS\n",
        "poly = ((1, 1), (2, 4), (4, 4), (5, 1))\n",
        "approxeq(kink_polygon(poly), [(1, 1),\n",
        " (1.25, 1.75),\n",
        " (0.75, 2.75),\n",
        " (1.75, 3.25),\n",
        " (2, 4),\n",
        " (2.5, 4.0),\n",
        " (3.0, 4.5),\n",
        " (3.5, 4.0),\n",
        " (4, 4),\n",
        " (4.25, 3.25),\n",
        " (5.25, 2.75),\n",
        " (4.75, 1.75),\n",
        " (5, 1),\n",
        " (4.0, 1.0),\n",
        " (3.0, 0.0),\n",
        " (2.0, 1.0)])\n",
        "### END HIDDEN TESTS\n"
      ]
    },
    {
      "cell_type": "code",
      "execution_count": null,
      "id": "8166715b",
      "metadata": {
        "deletable": false,
        "id": "8166715b",
        "nbgrader": {
          "cell_type": "code",
          "checksum": "74501c067a923cdf1fe43e7a17eb471e",
          "grade": false,
          "grade_id": "cell-dff97bbe3d63824",
          "locked": false,
          "schema_version": 3,
          "solution": true
        }
      },
      "outputs": [],
      "source": [
        "def poly_area(polygon):\n",
        "    \"\"\"Returns the area of a polygon.\"\"\"\n",
        "    # YOUR CODE HERE\n",
        "    area = 0\n",
        "    for i in range(0, (len(polygon)-1)):\n",
        "      x1 = polygon[i][0]\n",
        "      x2 = polygon[i+1][0]\n",
        "      y1 = polygon[i][1]\n",
        "      y2 = polygon[i+1][1]\n",
        "      first = (x2 - x1)\n",
        "      second = (y1+y2)/2\n",
        "      factorial = first * second\n",
        "      area += factorial\n",
        "    return area\n"
      ]
    },
    {
      "cell_type": "code",
      "execution_count": null,
      "id": "bf260b1c",
      "metadata": {
        "deletable": false,
        "id": "bf260b1c",
        "nbgrader": {
          "cell_type": "code",
          "checksum": "ba3e893cbed49f09028de9abe6c3806f",
          "grade": false,
          "grade_id": "cell-714f84d8d049fe0a",
          "locked": false,
          "schema_version": 3,
          "solution": true
        }
      },
      "outputs": [],
      "source": [
        "import math\n",
        "\n",
        "def poly_perimeter(polygon):\n",
        "    \"\"\"Returns the perimeter of a polygon.\"\"\"\n",
        "    # YOUR CODE HERE\n",
        "    perimeter = 0\n",
        "    for i in range(0, (len(polygon)-1)):\n",
        "      x1 = polygon[i+1][0]\n",
        "      y1 = polygon[i+1][1]\n",
        "      first = ((x1)-polygon[i][0]) ** 2\n",
        "      second = ((y1)-polygon[i][1]) ** 2\n",
        "      peri = math.sqrt(first + second)\n",
        "      perimeter += peri\n",
        "    third = ((polygon[-1][0])-polygon[0][0]) ** 2\n",
        "    fourth = ((polygon[-1][1])-polygon[0][1]) ** 2\n",
        "    perim = math.sqrt(third + fourth)\n",
        "    perimeter += perim\n",
        "    return perimeter\n"
      ]
    },
    {
      "cell_type": "code",
      "execution_count": null,
      "id": "de2fc345",
      "metadata": {
        "deletable": false,
        "id": "de2fc345",
        "nbgrader": {
          "cell_type": "code",
          "checksum": "bbe72dca7c23ce79730b157de0958fa5",
          "grade": false,
          "grade_id": "cell-61df2a5fd9bb45b0",
          "locked": false,
          "schema_version": 3,
          "solution": true
        }
      },
      "outputs": [],
      "source": [
        "## Here you can test your code.\n",
        "\n",
        "# YOUR CODE HERE\n",
        "def poly_area(polygon):\n",
        "    \"\"\"Returns the area of a polygon.\"\"\"\n",
        "    # YOUR CODE HERE\n",
        "    area = 0\n",
        "    for i in range(0, (len(polygon)-1)):\n",
        "      x1 = polygon[i][0]\n",
        "      x2 = polygon[i+1][0]\n",
        "      y1 = polygon[i][1]\n",
        "      y2 = polygon[i+1][1]\n",
        "      first = (x2 - x1)\n",
        "      second = (y1+y2)/2\n",
        "      factorial = first * second\n",
        "      area += factorial\n",
        "    return area\n",
        "\n",
        "import math\n",
        "\n",
        "def poly_perimeter(polygon):\n",
        "    \"\"\"Returns the perimeter of a polygon.\"\"\"\n",
        "    # YOUR CODE HERE\n",
        "    perimeter = 0\n",
        "    for i in range(0, (len(polygon)-1)):\n",
        "      x1 = polygon[i+1][0]\n",
        "      y1 = polygon[i+1][1]\n",
        "      first = ((x1)-polygon[i][0]) ** 2\n",
        "      second = ((y1)-polygon[i][1]) ** 2\n",
        "      peri = math.sqrt(first + second)\n",
        "      perimeter += peri\n",
        "    third = ((polygon[-1][0])-polygon[0][0]) ** 2\n",
        "    fourth = ((polygon[-1][1])-polygon[0][1]) ** 2\n",
        "    perim = math.sqrt(third + fourth)\n",
        "    perimeter += perim\n",
        "    return perimeter\n"
      ]
    },
    {
      "cell_type": "code",
      "execution_count": null,
      "id": "14cc6308",
      "metadata": {
        "deletable": false,
        "editable": false,
        "id": "14cc6308",
        "nbgrader": {
          "cell_type": "code",
          "checksum": "90e3aca0c4120453c467877f042e1620",
          "grade": true,
          "grade_id": "cell-f50aa72f7a51a6d0",
          "locked": true,
          "points": 10,
          "schema_version": 3,
          "solution": false
        }
      },
      "outputs": [],
      "source": [
        "poly1 = [(0, 0), (1, 2), (2, 0)]\n",
        "assert poly_area(poly1) == 2\n",
        "assert abs(poly_perimeter(poly1) - 6.472) < 0.01\n",
        "\n",
        "### BEGIN HIDDEN TESTS\n",
        "poly1 = [(0, 0), (0, 1), (1, 1), (1, 0)]\n",
        "assert poly_area(poly1) == 1\n",
        "assert abs(poly_perimeter(poly1) - 4) < 0.01\n",
        "### END HIDDEN TESTS\n"
      ]
    },
    {
      "cell_type": "code",
      "execution_count": null,
      "id": "7855b510",
      "metadata": {
        "deletable": false,
        "editable": false,
        "id": "7855b510",
        "nbgrader": {
          "cell_type": "code",
          "checksum": "5b32ada2809a87ed3d8f73fa9e4d49eb",
          "grade": false,
          "grade_id": "cell-3f732b2f3581583",
          "locked": true,
          "schema_version": 3,
          "solution": false
        }
      },
      "outputs": [],
      "source": [
        "poly = [(0, 0), (1, 2), (2, 0)]\n",
        "for n in range(6):\n",
        "    poly = kink_polygon(poly)\n",
        "    draw_polygon(*poly)\n"
      ]
    },
    {
      "cell_type": "code",
      "execution_count": null,
      "id": "9a274c24",
      "metadata": {
        "deletable": false,
        "editable": false,
        "id": "9a274c24",
        "nbgrader": {
          "cell_type": "code",
          "checksum": "de1f6a06341bdf884d754db020b33828",
          "grade": false,
          "grade_id": "cell-5fcdb6fbf26859f5",
          "locked": true,
          "schema_version": 3,
          "solution": false
        }
      },
      "outputs": [],
      "source": [
        "poly = [(0, 0), (0, 1), (1, 1), (1, 0)]\n",
        "for n in range(7):\n",
        "    poly = kink_polygon(poly)\n",
        "    area = poly_area(poly)\n",
        "    perim = poly_perimeter(poly)\n",
        "    print(\"Area:\", area, \"Perimeter:\", perim)\n",
        "assert 14.9 < perim < 15\n",
        "assert 1.399 < area < 1.4\n"
      ]
    },
    {
      "cell_type": "code",
      "execution_count": null,
      "id": "3ed3b42b",
      "metadata": {
        "deletable": false,
        "editable": false,
        "id": "3ed3b42b",
        "nbgrader": {
          "cell_type": "code",
          "checksum": "e52fda1c65947b39e12e82aa72802673",
          "grade": false,
          "grade_id": "cell-ad6a24f4e7f74cb",
          "locked": true,
          "schema_version": 3,
          "solution": false
        }
      },
      "outputs": [],
      "source": [
        "poly = [(0, 1), (1, 4), (6, 4), (8, 1)]\n",
        "for n in range(7):\n",
        "    poly = kink_polygon(poly)\n",
        "    area = poly_area(poly)\n",
        "    perim = poly_perimeter(poly)\n",
        "    print(\"Area:\", area, \"Perimeter:\", perim)\n",
        "assert 30.6 < area < 31\n",
        "assert 73 < perim < 74"
      ]
    }
  ],
  "metadata": {
    "colab": {
      "provenance": []
    },
    "kernelspec": {
      "display_name": "Python 3 (ipykernel)",
      "language": "python",
      "name": "python3"
    },
    "language_info": {
      "codemirror_mode": {
        "name": "ipython",
        "version": 3
      },
      "file_extension": ".py",
      "mimetype": "text/x-python",
      "name": "python",
      "nbconvert_exporter": "python",
      "pygments_lexer": "ipython3",
      "version": "3.8.10"
    },
    "test_info": {
      "id": "262022a9c5bdd8469ea587b4451190c990a02180"
    }
  },
  "nbformat": 4,
  "nbformat_minor": 5
}