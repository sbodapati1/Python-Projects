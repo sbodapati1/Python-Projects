{
  "cells": [
    {
      "cell_type": "code",
      "execution_count": null,
      "id": "12ac52b7",
      "metadata": {
        "deletable": false,
        "id": "12ac52b7",
        "nbgrader": {
          "cell_type": "code",
          "checksum": "39eb9abe529c87e935708e7d1389b1d4",
          "grade": false,
          "grade_id": "cell-272a42f4ce1df5f9",
          "locked": false,
          "schema_version": 3,
          "solution": true
        }
      },
      "outputs": [],
      "source": [
        "def fibonacci_generator():\n",
        "    \"\"\"Generates all Fibonacci numbers.\"\"\"\n",
        "    # YOUR CODE HERE\n",
        "    f1, f2 = 0, 1\n",
        "    while True:\n",
        "      yield f1\n",
        "      f1, f2 = f2, f1 + f2"
      ]
    },
    {
      "cell_type": "code",
      "execution_count": null,
      "id": "8ecc1012",
      "metadata": {
        "deletable": false,
        "editable": false,
        "id": "8ecc1012",
        "nbgrader": {
          "cell_type": "code",
          "checksum": "b65e8fcb4b4cc43301757f257ae72a79",
          "grade": false,
          "grade_id": "cell-5106a63868845d2b",
          "locked": true,
          "schema_version": 3,
          "solution": false
        }
      },
      "outputs": [],
      "source": [
        "r = []\n",
        "for n in fibonacci_generator():\n",
        "    r.append(n)\n",
        "    if n > 100:\n",
        "        break\n",
        "assert r == [0, 1, 1, 2, 3, 5, 8, 13, 21, 34, 55, 89, 144]\n"
      ]
    },
    {
      "cell_type": "code",
      "execution_count": null,
      "id": "cb4a8211",
      "metadata": {
        "deletable": false,
        "editable": false,
        "id": "cb4a8211",
        "nbgrader": {
          "cell_type": "code",
          "checksum": "f1abcb11fd6b95802787373bf41cdc6c",
          "grade": true,
          "grade_id": "cell-1e461d53e390cba5",
          "locked": true,
          "points": 10,
          "schema_version": 3,
          "solution": false
        }
      },
      "outputs": [],
      "source": [
        "### BEGIN HIDDEN TESTS\n",
        "c = 0\n",
        "for n in fibonacci_generator():\n",
        "    if n > 100:\n",
        "        c += 1\n",
        "    if n in [32, 88, 99, 231, 1000]:\n",
        "        print(\"bad:\", n)\n",
        "        raise Exception()\n",
        "    if n > 1000:\n",
        "        break\n",
        "assert c == 6\n",
        "### END HIDDEN TESTS\n"
      ]
    },
    {
      "cell_type": "code",
      "execution_count": null,
      "id": "817c5d18",
      "metadata": {
        "deletable": false,
        "id": "817c5d18",
        "nbgrader": {
          "cell_type": "code",
          "checksum": "e57a4a89c0448b15607700ae8a388d0b",
          "grade": false,
          "grade_id": "cell-6486f8e9d1595cc6",
          "locked": false,
          "schema_version": 3,
          "solution": true
        }
      },
      "outputs": [],
      "source": [
        "def prime_number_generator():\n",
        "    \"\"\"This generator returns all prime numbers.\"\"\"\n",
        "    # YOUR CODE HERE\n",
        "    num = 2\n",
        "    prime = [2]\n",
        "    while True:\n",
        "      num += 1\n",
        "      check = all(num % number != 0 for number in prime)\n",
        "      if check == True:\n",
        "        yield prime[-1]\n",
        "        prime.append(num)\n",
        "        num += 1\n",
        "      else:\n",
        "        num += 1\n"
      ]
    },
    {
      "cell_type": "code",
      "execution_count": null,
      "id": "d6100dd0",
      "metadata": {
        "deletable": false,
        "editable": false,
        "id": "d6100dd0",
        "nbgrader": {
          "cell_type": "code",
          "checksum": "daf1f0627d0f78853ac2941f62e3094c",
          "grade": false,
          "grade_id": "cell-390b7612c3df3343",
          "locked": true,
          "schema_version": 3,
          "solution": false
        }
      },
      "outputs": [],
      "source": [
        "initial_primes = [2, 3, 5, 7, 11, 13, 17, 19, 23]\n",
        "\n",
        "idx = 0\n",
        "for p in prime_number_generator():\n",
        "    assert p == initial_primes[idx]\n",
        "    idx += 1\n",
        "    if idx == len(initial_primes):\n",
        "        break\n"
      ]
    },
    {
      "cell_type": "code",
      "execution_count": null,
      "id": "5e433c5b",
      "metadata": {
        "deletable": false,
        "editable": false,
        "id": "5e433c5b",
        "nbgrader": {
          "cell_type": "code",
          "checksum": "53cd29a88eb0abecb02fac3c983d149c",
          "grade": true,
          "grade_id": "cell-a7e50a3c136cec77",
          "locked": true,
          "points": 10,
          "schema_version": 3,
          "solution": false
        }
      },
      "outputs": [],
      "source": [
        "### BEGIN HIDDEN TESTS\n",
        "c = 0\n",
        "for n in prime_number_generator():\n",
        "    if n > 900:\n",
        "        c += 1\n",
        "    if n in [32, 88, 99, 231, 1000]:\n",
        "        print(\"bad:\", n)\n",
        "        raise Exception()\n",
        "    if n > 1000:\n",
        "        break\n",
        "assert c == 15\n",
        "### END HIDDEN TESTS\n"
      ]
    }
  ],
  "metadata": {
    "colab": {
      "provenance": []
    },
    "kernelspec": {
      "display_name": "Python 3 (ipykernel)",
      "language": "python",
      "name": "python3"
    },
    "language_info": {
      "codemirror_mode": {
        "name": "ipython",
        "version": 3
      },
      "file_extension": ".py",
      "mimetype": "text/x-python",
      "name": "python",
      "nbconvert_exporter": "python",
      "pygments_lexer": "ipython3",
      "version": "3.8.10"
    },
    "test_info": {
      "id": "262022a9c5bdd8469ea587b4451190c990a02180"
    }
  },
  "nbformat": 4,
  "nbformat_minor": 5
}