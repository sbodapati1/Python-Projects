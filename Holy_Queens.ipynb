{
  "cells": [
    {
      "cell_type": "code",
      "execution_count": null,
      "metadata": {
        "deletable": false,
        "editable": false,
        "id": "PQhPiONQXUE7",
        "nbgrader": {
          "checksum": null,
          "grade": false,
          "grade_id": "cell-94e9b2063a61c048",
          "locked": true,
          "schema_version": 3,
          "solution": false
        }
      },
      "outputs": [],
      "source": [
        "QUEEN = 1\n",
        "EMPTY = 0\n",
        "FORBIDDEN = 2\n",
        "WALL = 3\n",
        "\n",
        "def show_board(board):\n",
        "    rows, cols = board.shape\n",
        "    for r in range(rows):\n",
        "        s = \"\"\n",
        "        for c in range(cols):\n",
        "            if board[r, c] == QUEEN:\n",
        "                s += \"Q\"\n",
        "            elif board[r, c] == FORBIDDEN:\n",
        "                s += \"*\"\n",
        "            elif board[r, c] == WALL:\n",
        "                s += \"#\"\n",
        "            elif board[r, c] == EMPTY:\n",
        "                s += \".\"\n",
        "            else:\n",
        "                s += \"?\"\n",
        "        print(s)\n"
      ]
    },
    {
      "cell_type": "code",
      "execution_count": null,
      "metadata": {
        "deletable": false,
        "editable": false,
        "id": "fUWrakzIXUE8",
        "nbgrader": {
          "checksum": null,
          "grade": false,
          "grade_id": "cell-3689dc461975bc04",
          "locked": true,
          "schema_version": 3,
          "solution": false
        }
      },
      "outputs": [],
      "source": [
        "import numpy as np\n",
        "\n",
        "board=np.array([\n",
        "                [0, 0, 0, 0, 0, 0],\n",
        "                [0, 1, 0, 3, 3, 0],\n",
        "                [0, 0, 0, 3, 3, 0],\n",
        "                [0, 0, 1, 0, 0, 0],\n",
        "                [0, 0, 0, 0, 0, 0]\n",
        "])\n",
        "show_board(board)\n"
      ]
    },
    {
      "cell_type": "code",
      "execution_count": null,
      "metadata": {
        "deletable": false,
        "editable": false,
        "id": "pzmR8kbOXUE9",
        "nbgrader": {
          "checksum": null,
          "grade": false,
          "grade_id": "cell-795ec82608b819d8",
          "locked": true,
          "schema_version": 3,
          "solution": false
        }
      },
      "outputs": [],
      "source": [
        "def read_board(string_list):\n",
        "    rows = len(string_list)\n",
        "    cols = len(string_list[0])\n",
        "    board = np.zeros((rows, cols))\n",
        "    for r, row in enumerate(string_list):\n",
        "        assert len(row) == cols\n",
        "        for c, s in enumerate(row):\n",
        "            if s == \"Q\":\n",
        "                board[r, c] = QUEEN\n",
        "            elif s == \"#\":\n",
        "                board[r, c] = WALL\n",
        "            elif s == \"*\":\n",
        "                board[r, c] = FORBIDDEN\n",
        "    return board\n"
      ]
    },
    {
      "cell_type": "code",
      "execution_count": null,
      "metadata": {
        "deletable": false,
        "editable": false,
        "id": "jzqrExxAXUE9",
        "nbgrader": {
          "checksum": null,
          "grade": false,
          "grade_id": "cell-9e80904c24e32a03",
          "locked": true,
          "schema_version": 3,
          "solution": false
        }
      },
      "outputs": [],
      "source": [
        "bs = [\n",
        "    \"......\",\n",
        "    \".Q.##.\",\n",
        "    \"...##.\",\n",
        "    \"..Q...\",\n",
        "    \"......\"\n",
        "    ]\n",
        "show_board(read_board(bs))\n"
      ]
    },
    {
      "cell_type": "code",
      "execution_count": null,
      "metadata": {
        "deletable": false,
        "id": "KUTzeq3YXUE-",
        "nbgrader": {
          "checksum": null,
          "grade": false,
          "grade_id": "cell-f4baa917f9bf7469",
          "locked": false,
          "schema_version": 3,
          "solution": true
        }
      },
      "outputs": [],
      "source": [
        "import random\n",
        "class HolyQueens(object):\n",
        "\n",
        "    def __init__(self, board):\n",
        "        self.board = board\n",
        "        self.num_rows, self.num_cols = self.board.shape\n",
        "        # Current number of queens in the board.\n",
        "        self.num_queens = np.sum(self.board == QUEEN)\n",
        "\n",
        "    def show(self):\n",
        "        show_board(self.board)\n",
        "\n",
        "    def propagate(self):\n",
        "        \"\"\"Propagates the information on the board, marking with 2 the\n",
        "        positions where a queen cannot be.\"\"\"\n",
        "        # The solution can be written concisely in about 20 lines of code,\n",
        "        # but if you brute force it, it might be quite long.\n",
        "        # YOUR CODE HERE\n",
        "        queens = list(zip(*np.where(self.board == QUEEN)))\n",
        "        for q in queens:\n",
        "          coords = [(-1,0),(1,0),(0,1),(0, -1), (1,1), (1,-1),(-1,1),(-1,-1)]\n",
        "          for co in coords:\n",
        "            t = q\n",
        "            while True:\n",
        "              t = tuple(np.add(t,co))\n",
        "              if t[0] < 0 or t[0] >= self.num_rows or t[1] < 0 or t[1] >= self.num_cols or self.board[t[0]][t[1]] == WALL:\n",
        "                break\n",
        "              else:\n",
        "                self.board[t[0]][t[1]] = FORBIDDEN\n",
        "    def search(self, total_num_queens):\n",
        "        \"\"\"Searches for a solution, starting from the given board,\n",
        "        which contains exactly num_queens.  It returns the board,\n",
        "        if such a solution is found, or None, if none could be found\n",
        "        after exhaustive search.\"\"\"\n",
        "        # YOUR CODE HERE\n",
        "        if len(list(zip(*np.where(self.board == QUEEN)))) == total_num_queens:\n",
        "          return self.board\n",
        "        if len(np.array(np.where(self.board==EMPTY))) == 0:\n",
        "          self.board[self.board == QUEEN] = EMPTY\n",
        "          self.board[self.board == FORBIDDEN] = EMPTY\n",
        "          return self.search(total_num_queens)\n",
        "        left = list(zip(*np.where(self.board==EMPTY)))\n",
        "        if len(left) > 0:\n",
        "          r = random.choice(left)\n",
        "          self.board[r[0]][r[1]] = QUEEN\n",
        "          self.propagate()\n",
        "        else:\n",
        "          return self.board\n",
        "        if type(total_num_queens) == int or len(total_num_queens) != 0:\n",
        "            return self.search(total_num_queens)"
      ]
    },
    {
      "cell_type": "code",
      "execution_count": null,
      "metadata": {
        "deletable": false,
        "editable": false,
        "id": "jjIWzk0WXUE_",
        "nbgrader": {
          "checksum": null,
          "grade": false,
          "grade_id": "cell-628cafc4edaa9883",
          "locked": true,
          "schema_version": 3,
          "solution": false
        }
      },
      "outputs": [],
      "source": [
        "# Propagating this\n",
        "bs = [\n",
        "    \"......\",\n",
        "    \".Q.##.\",\n",
        "    \"...##.\",\n",
        "    \"..Q...\",\n",
        "    \"......\"\n",
        "    ]\n",
        "# should give this:\n",
        "bs_prop = [\n",
        "    \"***...\",\n",
        "    \"*Q*##.\",\n",
        "    \"***##.\",\n",
        "    \"**Q***\",\n",
        "    \".****.\"]\n",
        "\n",
        "hq = HolyQueens(read_board(bs))\n",
        "hq.propagate()\n",
        "hq.show()\n",
        "assert (hq.board == read_board(bs_prop)).all()\n"
      ]
    },
    {
      "cell_type": "code",
      "execution_count": null,
      "metadata": {
        "deletable": false,
        "editable": false,
        "id": "daZFtEAfXUE_",
        "nbgrader": {
          "checksum": null,
          "grade": false,
          "grade_id": "cell-b6461a3908cd82e5",
          "locked": true,
          "schema_version": 3,
          "solution": false
        }
      },
      "outputs": [],
      "source": [
        "# Propagating this\n",
        "bs = [\n",
        "    \".....Q\",\n",
        "    \"..Q##.\",\n",
        "    \"...##.\",\n",
        "    \".#....\",\n",
        "    \".Q....\"\n",
        "    ]\n",
        "# should give this:\n",
        "bs_prop = [\n",
        "    \"*****Q\",\n",
        "    \"**Q##*\",\n",
        "    \".**##*\",\n",
        "    \"*#*..*\",\n",
        "    \"*Q****\"]\n",
        "\n",
        "hq = HolyQueens(read_board(bs))\n",
        "hq.propagate()\n",
        "hq.show()\n",
        "assert (hq.board == read_board(bs_prop)).all()\n"
      ]
    },
    {
      "cell_type": "code",
      "execution_count": null,
      "metadata": {
        "colab": {
          "base_uri": "https://localhost:8080/"
        },
        "deletable": false,
        "editable": false,
        "id": "ydeKsxZDXUFB",
        "nbgrader": {
          "checksum": null,
          "grade": false,
          "grade_id": "cell-2924ded87fe955c2",
          "locked": true,
          "schema_version": 3,
          "solution": false
        },
        "outputId": "c5a6886e-cc76-4c89-f61a-e750d7d6ef48"
      },
      "outputs": [
        {
          "name": "stdout",
          "output_type": "stream",
          "text": [
            "***Q**\n",
            "***##Q\n",
            "***##*\n",
            "*Q****\n",
            "***Q**\n"
          ]
        }
      ],
      "source": [
        "bs = [\n",
        "    \"......\",\n",
        "    \"...##.\",\n",
        "    \"...##.\",\n",
        "    \"......\",\n",
        "    \"......\"\n",
        "    ]\n",
        "hq = HolyQueens(read_board(bs))\n",
        "r = hq.search(4)\n",
        "assert r is not None\n",
        "# You should get a solution with 4 non-interfering queens.\n",
        "show_board(r)\n"
      ]
    },
    {
      "cell_type": "code",
      "execution_count": null,
      "metadata": {
        "deletable": false,
        "editable": false,
        "id": "Kvm8YeJEXUFB",
        "nbgrader": {
          "checksum": null,
          "grade": false,
          "grade_id": "cell-92f1ff240c566f88",
          "locked": true,
          "schema_version": 3,
          "solution": false
        }
      },
      "outputs": [],
      "source": [
        "bs = [\n",
        "    \"......\",\n",
        "    \"...##.\",\n",
        "    \"...##.\",\n",
        "    \"......\",\n",
        "    \"......\"\n",
        "    ]\n",
        "hq = HolyQueens(read_board(bs))\n",
        "r = hq.search(6)\n",
        "assert r is not None\n",
        "# You should get a solution with 6 non-interfering queens.\n",
        "show_board(r)\n"
      ]
    }
  ],
  "metadata": {
    "colab": {
      "provenance": []
    },
    "kernelspec": {
      "display_name": "Python 3",
      "language": "python",
      "name": "python3"
    },
    "language_info": {
      "codemirror_mode": {
        "name": "ipython",
        "version": 3
      },
      "file_extension": ".py",
      "mimetype": "text/x-python",
      "name": "python",
      "nbconvert_exporter": "python",
      "pygments_lexer": "ipython3",
      "version": "3.8.10"
    },
    "test_info": {
      "id": "262022a9c5bdd8469ea587b4451190c990a02180"
    }
  },
  "nbformat": 4,
  "nbformat_minor": 0
}